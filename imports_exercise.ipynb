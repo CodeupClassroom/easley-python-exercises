{
 "cells": [
  {
   "cell_type": "markdown",
   "metadata": {},
   "source": [
    "# Imports Exercise\n",
    "\n",
    "Create a file named import_exercises.py to do your work in.\n",
    "\n",
    "1. Import and test 3 of the functions from your functions exercise file.\n",
    "\n",
    "Import each function in a different way:\n",
    "\n",
    "- import the module and refer to the function with the . syntax\n",
    "- use from to import the function directly\n",
    "- use from and give the function a different name"
   ]
  },
  {
   "cell_type": "code",
   "execution_count": 3,
   "metadata": {},
   "outputs": [],
   "source": [
    "import acquire\n",
    "\n",
    "acquire.get_data('iris')"
   ]
  },
  {
   "cell_type": "markdown",
   "metadata": {},
   "source": [
    "For the following exercises, read about and use the itertools module from the standard library to help you solve the problem.\n",
    "\n",
    "2. How many different ways can you combine the letters from \"abc\" with the numbers 1, 2, and 3?"
   ]
  },
  {
   "cell_type": "code",
   "execution_count": 7,
   "metadata": {},
   "outputs": [
    {
     "data": {
      "text/plain": [
       "9"
      ]
     },
     "execution_count": 7,
     "metadata": {},
     "output_type": "execute_result"
    }
   ],
   "source": [
    "import itertools as it\n",
    "\n",
    "len(list(it.product([1, 2, 3], 'abc')))"
   ]
  },
  {
   "cell_type": "markdown",
   "metadata": {},
   "source": [
    "3. How many different ways can you combine two of the letters from \"abcd\"?"
   ]
  },
  {
   "cell_type": "code",
   "execution_count": 8,
   "metadata": {},
   "outputs": [
    {
     "data": {
      "text/plain": [
       "6"
      ]
     },
     "execution_count": 8,
     "metadata": {},
     "output_type": "execute_result"
    }
   ],
   "source": [
    "len(list(it.combinations('abcd', 2)))"
   ]
  },
  {
   "cell_type": "markdown",
   "metadata": {},
   "source": [
    "Save this file as profiles.json inside of your exercises directory. Use the load function from the json module to open this file, it will produce a list of dictionaries. Using this data, write some code that calculates and outputs the following information:"
   ]
  },
  {
   "cell_type": "code",
   "execution_count": 9,
   "metadata": {},
   "outputs": [],
   "source": [
    "import json\n",
    "\n",
    "profiles = json.load(open('profiles.json'))"
   ]
  },
  {
   "cell_type": "code",
   "execution_count": 11,
   "metadata": {},
   "outputs": [
    {
     "data": {
      "text/plain": [
       "[{'_id': '54e23c3e46ab53a440b580e8',\n",
       "  'index': 0,\n",
       "  'guid': '9962b468-ef3e-4993-b677-617469bc3008',\n",
       "  'isActive': False,\n",
       "  'balance': '$2,097.02',\n",
       "  'picture': 'http://placehold.it/32x32',\n",
       "  'age': 39,\n",
       "  'eyeColor': 'blue',\n",
       "  'name': 'Hebert Estes',\n",
       "  'gender': 'male',\n",
       "  'company': 'ANDRYX',\n",
       "  'email': 'hebertestes@andryx.com',\n",
       "  'phone': '+1 (866) 456-2268',\n",
       "  'address': '121 Emmons Avenue, Klondike, Kentucky, 5975',\n",
       "  'about': 'Sit cillum deserunt irure laboris tempor fugiat laboris. Amet commodo amet est incididunt. Dolore qui fugiat cillum pariatur dolore excepteur elit ipsum.\\r\\n',\n",
       "  'registered': '2014-11-10T01:44:03 +06:00',\n",
       "  'latitude': -80.157843,\n",
       "  'longitude': 161.93016,\n",
       "  'tags': ['sit', 'occaecat', 'non', 'ea', 'sit', 'laboris', 'exercitation'],\n",
       "  'friends': [{'id': 0, 'name': 'Tanisha Leonard'},\n",
       "   {'id': 1, 'name': 'Dennis Wilson'},\n",
       "   {'id': 2, 'name': 'Lupe Howe'}],\n",
       "  'greeting': 'Hello, Hebert Estes! You have 4 unread messages.',\n",
       "  'favoriteFruit': 'strawberry'},\n",
       " {'_id': '54e23c3ef5cc0d250968c212',\n",
       "  'index': 1,\n",
       "  'guid': '905f849d-49bf-4a57-b4f3-5d6e4bf1b04c',\n",
       "  'isActive': False,\n",
       "  'balance': '$3,654.02',\n",
       "  'picture': 'http://placehold.it/32x32',\n",
       "  'age': 30,\n",
       "  'eyeColor': 'green',\n",
       "  'name': 'Allison Wynn',\n",
       "  'gender': 'male',\n",
       "  'company': 'PHARMACON',\n",
       "  'email': 'allisonwynn@pharmacon.com',\n",
       "  'phone': '+1 (926) 525-3131',\n",
       "  'address': '724 Brevoort Place, Lodoga, Indiana, 3880',\n",
       "  'about': 'Esse quis cillum sunt occaecat ad et eu incididunt aliquip dolor. Adipisicing labore magna anim cillum nisi. Elit mollit consequat velit nulla cillum excepteur elit ullamco deserunt. Anim aliquip Lorem excepteur ad veniam et labore in qui ullamco. Occaecat sit do incididunt voluptate id magna ea amet.\\r\\n',\n",
       "  'registered': '2014-06-10T13:41:26 +05:00',\n",
       "  'latitude': 55.737207,\n",
       "  'longitude': -167.177561,\n",
       "  'tags': ['enim',\n",
       "   'officia',\n",
       "   'laboris',\n",
       "   'irure',\n",
       "   'veniam',\n",
       "   'occaecat',\n",
       "   'pariatur'],\n",
       "  'friends': [{'id': 0, 'name': 'Curry Cox'},\n",
       "   {'id': 1, 'name': 'Alma Dale'},\n",
       "   {'id': 2, 'name': 'Barbara Mayo'}],\n",
       "  'greeting': 'Hello, Allison Wynn! You have 19 unread messages.',\n",
       "  'favoriteFruit': 'apple'},\n",
       " {'_id': '54e23c3e09cc6875638cd36b',\n",
       "  'index': 2,\n",
       "  'guid': '1b042d48-9cfa-4db5-8b60-4104165591c3',\n",
       "  'isActive': True,\n",
       "  'balance': '$1,536.02',\n",
       "  'picture': 'http://placehold.it/32x32',\n",
       "  'age': 31,\n",
       "  'eyeColor': 'brown',\n",
       "  'name': 'Jacobs Floyd',\n",
       "  'gender': 'male',\n",
       "  'company': 'QUONK',\n",
       "  'email': 'jacobsfloyd@quonk.com',\n",
       "  'phone': '+1 (853) 537-3315',\n",
       "  'address': '941 Cox Place, Bluffview, Georgia, 5882',\n",
       "  'about': 'Deserunt adipisicing proident exercitation cillum anim consectetur labore exercitation. Commodo reprehenderit laborum enim exercitation. Ullamco nulla culpa aliqua nisi fugiat consectetur deserunt nostrud in eu.\\r\\n',\n",
       "  'registered': '2014-07-30T03:17:32 +05:00',\n",
       "  'latitude': 30.215667,\n",
       "  'longitude': 68.831905,\n",
       "  'tags': ['est', 'aute', 'laborum', 'sint', 'anim', 'sit', 'consectetur'],\n",
       "  'friends': [{'id': 0, 'name': 'Robles Chan'},\n",
       "   {'id': 1, 'name': 'Whitfield Strickland'},\n",
       "   {'id': 2, 'name': 'Lina Melton'}],\n",
       "  'greeting': 'Hello, Jacobs Floyd! You have 5 unread messages.',\n",
       "  'favoriteFruit': 'banana'},\n",
       " {'_id': '54e23c3e54e4094147a3b1da',\n",
       "  'index': 3,\n",
       "  'guid': '69eb3454-8acc-46f1-a636-c6df00dfb542',\n",
       "  'isActive': False,\n",
       "  'balance': '$3,919.64',\n",
       "  'picture': 'http://placehold.it/32x32',\n",
       "  'age': 20,\n",
       "  'eyeColor': 'green',\n",
       "  'name': 'Fay Hammond',\n",
       "  'gender': 'female',\n",
       "  'company': 'INRT',\n",
       "  'email': 'fayhammond@inrt.com',\n",
       "  'phone': '+1 (922) 429-2592',\n",
       "  'address': '518 Randolph Street, Whitestone, Arizona, 8189',\n",
       "  'about': 'Aliqua sunt exercitation quis cupidatat fugiat nulla laboris occaecat ut reprehenderit qui incididunt. Amet excepteur qui amet mollit sint enim velit est dolor eu. Velit labore ea aute ipsum consequat culpa cupidatat excepteur aliqua. Sit commodo id est deserunt commodo. Labore sit deserunt enim in dolore incididunt. Officia qui est veniam cillum consequat minim duis Lorem esse magna culpa cupidatat cupidatat enim. Amet eiusmod elit qui reprehenderit commodo quis.\\r\\n',\n",
       "  'registered': '2015-01-30T08:05:38 +06:00',\n",
       "  'latitude': 33.825844,\n",
       "  'longitude': -65.969538,\n",
       "  'tags': ['aliqua', 'esse', 'sint', 'pariatur', 'commodo', 'do', 'anim'],\n",
       "  'friends': [{'id': 0, 'name': 'Dudley Booker'},\n",
       "   {'id': 1, 'name': 'Esmeralda Tyler'},\n",
       "   {'id': 2, 'name': 'Rosa Hampton'}],\n",
       "  'greeting': 'Hello, Fay Hammond! You have 10 unread messages.',\n",
       "  'favoriteFruit': 'banana'},\n",
       " {'_id': '54e23c3e177caf5567ba87ac',\n",
       "  'index': 4,\n",
       "  'guid': '97962c85-7700-4ffa-a01e-2fcbc147fd81',\n",
       "  'isActive': False,\n",
       "  'balance': '$3,681.39',\n",
       "  'picture': 'http://placehold.it/32x32',\n",
       "  'age': 39,\n",
       "  'eyeColor': 'green',\n",
       "  'name': 'Chasity Marsh',\n",
       "  'gender': 'female',\n",
       "  'company': 'WAZZU',\n",
       "  'email': 'chasitymarsh@wazzu.com',\n",
       "  'phone': '+1 (976) 425-2362',\n",
       "  'address': '604 Just Court, Eastvale, Federated States Of Micronesia, 8644',\n",
       "  'about': 'Irure excepteur consequat esse qui tempor deserunt nulla fugiat. Ut excepteur do veniam dolore dolor proident sunt voluptate ad ipsum nisi. Lorem proident deserunt Lorem cupidatat dolor nulla qui id aliqua. Et nulla laborum deserunt tempor ad culpa. Ullamco occaecat adipisicing dolore laborum laborum duis aliqua nisi irure ex. Incididunt tempor Lorem quis dolore.\\r\\n',\n",
       "  'registered': '2014-07-31T06:03:19 +05:00',\n",
       "  'latitude': -31.660978,\n",
       "  'longitude': 37.559095,\n",
       "  'tags': ['aliquip', 'duis', 'irure', 'amet', 'aliquip', 'dolore', 'esse'],\n",
       "  'friends': [{'id': 0, 'name': 'Kristina Glover'},\n",
       "   {'id': 1, 'name': 'Ora Christian'},\n",
       "   {'id': 2, 'name': 'Jacklyn Joseph'}],\n",
       "  'greeting': 'Hello, Chasity Marsh! You have 9 unread messages.',\n",
       "  'favoriteFruit': 'apple'}]"
      ]
     },
     "execution_count": 11,
     "metadata": {},
     "output_type": "execute_result"
    }
   ],
   "source": [
    "profiles[0:5]"
   ]
  },
  {
   "cell_type": "markdown",
   "metadata": {},
   "source": [
    "4. Total number of users"
   ]
  },
  {
   "cell_type": "code",
   "execution_count": 37,
   "metadata": {},
   "outputs": [
    {
     "data": {
      "text/plain": [
       "19"
      ]
     },
     "execution_count": 37,
     "metadata": {},
     "output_type": "execute_result"
    }
   ],
   "source": [
    "ttl_users = len(profiles)\n",
    "ttl_users"
   ]
  },
  {
   "cell_type": "markdown",
   "metadata": {},
   "source": [
    "5. Number of active users"
   ]
  },
  {
   "cell_type": "code",
   "execution_count": 13,
   "metadata": {},
   "outputs": [
    {
     "data": {
      "text/plain": [
       "False"
      ]
     },
     "execution_count": 13,
     "metadata": {},
     "output_type": "execute_result"
    }
   ],
   "source": [
    "profiles[0]['isActive']"
   ]
  },
  {
   "cell_type": "code",
   "execution_count": 14,
   "metadata": {},
   "outputs": [
    {
     "name": "stdout",
     "output_type": "stream",
     "text": [
      "0\n"
     ]
    }
   ],
   "source": [
    "if profiles[0]['isActive']:\n",
    "    print(1)\n",
    "else:\n",
    "    print(0)"
   ]
  },
  {
   "cell_type": "code",
   "execution_count": 20,
   "metadata": {},
   "outputs": [
    {
     "name": "stdout",
     "output_type": "stream",
     "text": [
      "9\n"
     ]
    }
   ],
   "source": [
    "# create empty list\n",
    "ttl = []\n",
    "# loop through each profile (0 to 18)\n",
    "# appending the profile to the list if isActive == True\n",
    "for i in range(len(profiles)):\n",
    "    if profiles[i]['isActive']:\n",
    "        ttl.append(profiles[i])\n",
    "\n",
    "# print the length of the list of active profiles\n",
    "print(len(ttl))"
   ]
  },
  {
   "cell_type": "code",
   "execution_count": 15,
   "metadata": {},
   "outputs": [
    {
     "data": {
      "text/plain": [
       "9"
      ]
     },
     "execution_count": 15,
     "metadata": {},
     "output_type": "execute_result"
    }
   ],
   "source": [
    "len([profile for profile in profiles if profile['isActive']])"
   ]
  },
  {
   "cell_type": "markdown",
   "metadata": {},
   "source": [
    "6. Number of inactive users"
   ]
  },
  {
   "cell_type": "code",
   "execution_count": 21,
   "metadata": {},
   "outputs": [
    {
     "data": {
      "text/plain": [
       "10"
      ]
     },
     "execution_count": 21,
     "metadata": {},
     "output_type": "execute_result"
    }
   ],
   "source": [
    "len([profile for profile in profiles if not profile['isActive']])"
   ]
  },
  {
   "cell_type": "markdown",
   "metadata": {},
   "source": [
    "7. Grand total of balances for all users"
   ]
  },
  {
   "cell_type": "code",
   "execution_count": 23,
   "metadata": {},
   "outputs": [
    {
     "data": {
      "text/plain": [
       "['$2,097.02',\n",
       " '$3,654.02',\n",
       " '$1,536.02',\n",
       " '$3,919.64',\n",
       " '$3,681.39',\n",
       " '$1,694.42',\n",
       " '$1,214.10',\n",
       " '$2,930.31',\n",
       " '$1,944.15',\n",
       " '$2,839.22',\n",
       " '$2,467.31',\n",
       " '$3,304.99',\n",
       " '$3,844.42',\n",
       " '$3,594.99',\n",
       " '$2,940.24',\n",
       " '$3,062.41',\n",
       " '$3,067.82',\n",
       " '$2,646.76',\n",
       " '$2,227.79']"
      ]
     },
     "execution_count": 23,
     "metadata": {},
     "output_type": "execute_result"
    }
   ],
   "source": [
    "# extracting the balance values\n",
    "balances = [profile['balance'] for profile in profiles]\n",
    "balances"
   ]
  },
  {
   "cell_type": "code",
   "execution_count": 24,
   "metadata": {},
   "outputs": [
    {
     "data": {
      "text/plain": [
       "['$2097.02',\n",
       " '$3654.02',\n",
       " '$1536.02',\n",
       " '$3919.64',\n",
       " '$3681.39',\n",
       " '$1694.42',\n",
       " '$1214.10',\n",
       " '$2930.31',\n",
       " '$1944.15',\n",
       " '$2839.22',\n",
       " '$2467.31',\n",
       " '$3304.99',\n",
       " '$3844.42',\n",
       " '$3594.99',\n",
       " '$2940.24',\n",
       " '$3062.41',\n",
       " '$3067.82',\n",
       " '$2646.76',\n",
       " '$2227.79']"
      ]
     },
     "execution_count": 24,
     "metadata": {},
     "output_type": "execute_result"
    }
   ],
   "source": [
    "# removing commas \n",
    "balances = [balance.replace(',', '') for balance in balances]\n",
    "balances"
   ]
  },
  {
   "cell_type": "code",
   "execution_count": 25,
   "metadata": {},
   "outputs": [
    {
     "data": {
      "text/plain": [
       "['2097.02',\n",
       " '3654.02',\n",
       " '1536.02',\n",
       " '3919.64',\n",
       " '3681.39',\n",
       " '1694.42',\n",
       " '1214.10',\n",
       " '2930.31',\n",
       " '1944.15',\n",
       " '2839.22',\n",
       " '2467.31',\n",
       " '3304.99',\n",
       " '3844.42',\n",
       " '3594.99',\n",
       " '2940.24',\n",
       " '3062.41',\n",
       " '3067.82',\n",
       " '2646.76',\n",
       " '2227.79']"
      ]
     },
     "execution_count": 25,
     "metadata": {},
     "output_type": "execute_result"
    }
   ],
   "source": [
    "# removing %\n",
    "balances = [balance.replace('$', '') for balance in balances]\n",
    "balances"
   ]
  },
  {
   "cell_type": "code",
   "execution_count": 26,
   "metadata": {},
   "outputs": [
    {
     "data": {
      "text/plain": [
       "[2097.02,\n",
       " 3654.02,\n",
       " 1536.02,\n",
       " 3919.64,\n",
       " 3681.39,\n",
       " 1694.42,\n",
       " 1214.1,\n",
       " 2930.31,\n",
       " 1944.15,\n",
       " 2839.22,\n",
       " 2467.31,\n",
       " 3304.99,\n",
       " 3844.42,\n",
       " 3594.99,\n",
       " 2940.24,\n",
       " 3062.41,\n",
       " 3067.82,\n",
       " 2646.76,\n",
       " 2227.79]"
      ]
     },
     "execution_count": 26,
     "metadata": {},
     "output_type": "execute_result"
    }
   ],
   "source": [
    "# convert from string to float\n",
    "balances = [float(balance) for balance in balances]\n",
    "balances"
   ]
  },
  {
   "cell_type": "code",
   "execution_count": 27,
   "metadata": {},
   "outputs": [
    {
     "data": {
      "text/plain": [
       "52667.02"
      ]
     },
     "execution_count": 27,
     "metadata": {},
     "output_type": "execute_result"
    }
   ],
   "source": [
    "sum(balances)"
   ]
  },
  {
   "cell_type": "markdown",
   "metadata": {},
   "source": [
    "Instead of going through each step to clean, let's put all of those into a function and then run the list comprehension on the single function. "
   ]
  },
  {
   "cell_type": "code",
   "execution_count": 28,
   "metadata": {},
   "outputs": [],
   "source": [
    "def clean_balance(balance):\n",
    "    balance = balance.replace(',', '')\n",
    "    balance = balance.replace('$', '')\n",
    "    return float(balance)"
   ]
  },
  {
   "cell_type": "code",
   "execution_count": 35,
   "metadata": {},
   "outputs": [],
   "source": [
    "ttl_balances = sum([clean_balance(profile['balance']) for profile in profiles])"
   ]
  },
  {
   "cell_type": "markdown",
   "metadata": {},
   "source": [
    "8. Average balance per user"
   ]
  },
  {
   "cell_type": "code",
   "execution_count": 40,
   "metadata": {},
   "outputs": [
    {
     "data": {
      "text/plain": [
       "2771.95"
      ]
     },
     "execution_count": 40,
     "metadata": {},
     "output_type": "execute_result"
    }
   ],
   "source": [
    "avg_balance = round(ttl_balances / ttl_users, 2)\n",
    "avg_balance"
   ]
  },
  {
   "cell_type": "markdown",
   "metadata": {},
   "source": [
    "9. User with the lowest balance"
   ]
  },
  {
   "cell_type": "code",
   "execution_count": 42,
   "metadata": {},
   "outputs": [
    {
     "data": {
      "text/plain": [
       "'Avery Flynn'"
      ]
     },
     "execution_count": 42,
     "metadata": {},
     "output_type": "execute_result"
    }
   ],
   "source": [
    "# This variable will hold on to the user dict with the lowest balance\n",
    "# we'll start of by saying the user with the lowest balance is the first user.\n",
    "user_with_lowest_balance = profiles[0]\n",
    "\n",
    "# Now we can loop through the remaining profiles and compare the balances\n",
    "for profile in profiles[1:]:\n",
    "    # if the current profile has a lower balance than our lowest balance so far,\n",
    "    if clean_balance(profile['balance']) < clean_balance(user_with_lowest_balance['balance']):\n",
    "        # set this profile as the user with the lowest balance\n",
    "        user_with_lowest_balance = profile\n",
    "\n",
    "user_with_lowest_balance['name']"
   ]
  },
  {
   "cell_type": "markdown",
   "metadata": {},
   "source": [
    "10. User with the highest balance"
   ]
  },
  {
   "cell_type": "code",
   "execution_count": 43,
   "metadata": {},
   "outputs": [
    {
     "data": {
      "text/plain": [
       "{'_id': '54e23c3e54e4094147a3b1da',\n",
       " 'index': 3,\n",
       " 'guid': '69eb3454-8acc-46f1-a636-c6df00dfb542',\n",
       " 'isActive': False,\n",
       " 'balance': '$3,919.64',\n",
       " 'picture': 'http://placehold.it/32x32',\n",
       " 'age': 20,\n",
       " 'eyeColor': 'green',\n",
       " 'name': 'Fay Hammond',\n",
       " 'gender': 'female',\n",
       " 'company': 'INRT',\n",
       " 'email': 'fayhammond@inrt.com',\n",
       " 'phone': '+1 (922) 429-2592',\n",
       " 'address': '518 Randolph Street, Whitestone, Arizona, 8189',\n",
       " 'about': 'Aliqua sunt exercitation quis cupidatat fugiat nulla laboris occaecat ut reprehenderit qui incididunt. Amet excepteur qui amet mollit sint enim velit est dolor eu. Velit labore ea aute ipsum consequat culpa cupidatat excepteur aliqua. Sit commodo id est deserunt commodo. Labore sit deserunt enim in dolore incididunt. Officia qui est veniam cillum consequat minim duis Lorem esse magna culpa cupidatat cupidatat enim. Amet eiusmod elit qui reprehenderit commodo quis.\\r\\n',\n",
       " 'registered': '2015-01-30T08:05:38 +06:00',\n",
       " 'latitude': 33.825844,\n",
       " 'longitude': -65.969538,\n",
       " 'tags': ['aliqua', 'esse', 'sint', 'pariatur', 'commodo', 'do', 'anim'],\n",
       " 'friends': [{'id': 0, 'name': 'Dudley Booker'},\n",
       "  {'id': 1, 'name': 'Esmeralda Tyler'},\n",
       "  {'id': 2, 'name': 'Rosa Hampton'}],\n",
       " 'greeting': 'Hello, Fay Hammond! You have 10 unread messages.',\n",
       " 'favoriteFruit': 'banana'}"
      ]
     },
     "execution_count": 43,
     "metadata": {},
     "output_type": "execute_result"
    }
   ],
   "source": [
    "# We'll use the same strategy as before, but with the highest balance this time\n",
    "user_with_highest_balance = profiles[0]\n",
    "\n",
    "for profile in profiles[1:]:\n",
    "    if clean_balance(profile['balance']) > clean_balance(user_with_highest_balance['balance']):\n",
    "        user_with_highest_balance = profile\n",
    "\n",
    "user_with_highest_balance"
   ]
  },
  {
   "cell_type": "markdown",
   "metadata": {},
   "source": [
    "11. Most common favorite fruit"
   ]
  },
  {
   "cell_type": "code",
   "execution_count": 44,
   "metadata": {},
   "outputs": [
    {
     "data": {
      "text/plain": [
       "['strawberry',\n",
       " 'apple',\n",
       " 'banana',\n",
       " 'banana',\n",
       " 'apple',\n",
       " 'apple',\n",
       " 'banana',\n",
       " 'strawberry',\n",
       " 'strawberry',\n",
       " 'banana',\n",
       " 'strawberry',\n",
       " 'strawberry',\n",
       " 'apple',\n",
       " 'strawberry',\n",
       " 'strawberry',\n",
       " 'banana',\n",
       " 'strawberry',\n",
       " 'banana',\n",
       " 'strawberry']"
      ]
     },
     "execution_count": 44,
     "metadata": {},
     "output_type": "execute_result"
    }
   ],
   "source": [
    "favorite_fruits = [profile['favoriteFruit'] for profile in profiles]\n",
    "favorite_fruits"
   ]
  },
  {
   "cell_type": "code",
   "execution_count": 45,
   "metadata": {},
   "outputs": [],
   "source": [
    "# Our goal here is to transform the list above into a dictionary where the keys are the unique fruit names,\n",
    "# and the values are the number of times that fruit appears in the list above.\n",
    "\n",
    "# To do so, we'll start with an empty dictionary:\n",
    "fruit_counts = {}\n",
    "\n",
    "# Now we can loop through the list of favorite fruits\n",
    "for fruit in favorite_fruits:\n",
    "    # if the fruit name already exists as a key in the fruit_counts dictionary\n",
    "    if fruit in fruit_counts:\n",
    "        # We already have started a acount for this fruit\n",
    "        # add 1 to the number of times that fruit appears\n",
    "        fruit_counts[fruit] += 1\n",
    "    else:\n",
    "        # We don't yet have an entry for this fruit\n",
    "        # Create it and set it to 1\n",
    "        fruit_counts[fruit] = 1"
   ]
  },
  {
   "cell_type": "code",
   "execution_count": 49,
   "metadata": {},
   "outputs": [
    {
     "data": {
      "text/plain": [
       "{'strawberry': 9, 'apple': 4, 'banana': 6}"
      ]
     },
     "execution_count": 49,
     "metadata": {},
     "output_type": "execute_result"
    }
   ],
   "source": [
    "fruit_counts"
   ]
  },
  {
   "cell_type": "code",
   "execution_count": 50,
   "metadata": {},
   "outputs": [],
   "source": [
    "#strawberry is most common favorite"
   ]
  },
  {
   "cell_type": "markdown",
   "metadata": {},
   "source": [
    "12. Least most common favorite fruit\n",
    "\n",
    "Apple is the least common favorite fruit. "
   ]
  },
  {
   "cell_type": "markdown",
   "metadata": {},
   "source": [
    "13. Total number of unread messages for all users"
   ]
  },
  {
   "cell_type": "code",
   "execution_count": 52,
   "metadata": {},
   "outputs": [
    {
     "data": {
      "text/plain": [
       "{'_id': '54e23c3e46ab53a440b580e8',\n",
       " 'index': 0,\n",
       " 'guid': '9962b468-ef3e-4993-b677-617469bc3008',\n",
       " 'isActive': False,\n",
       " 'balance': '$2,097.02',\n",
       " 'picture': 'http://placehold.it/32x32',\n",
       " 'age': 39,\n",
       " 'eyeColor': 'blue',\n",
       " 'name': 'Hebert Estes',\n",
       " 'gender': 'male',\n",
       " 'company': 'ANDRYX',\n",
       " 'email': 'hebertestes@andryx.com',\n",
       " 'phone': '+1 (866) 456-2268',\n",
       " 'address': '121 Emmons Avenue, Klondike, Kentucky, 5975',\n",
       " 'about': 'Sit cillum deserunt irure laboris tempor fugiat laboris. Amet commodo amet est incididunt. Dolore qui fugiat cillum pariatur dolore excepteur elit ipsum.\\r\\n',\n",
       " 'registered': '2014-11-10T01:44:03 +06:00',\n",
       " 'latitude': -80.157843,\n",
       " 'longitude': 161.93016,\n",
       " 'tags': ['sit', 'occaecat', 'non', 'ea', 'sit', 'laboris', 'exercitation'],\n",
       " 'friends': [{'id': 0, 'name': 'Tanisha Leonard'},\n",
       "  {'id': 1, 'name': 'Dennis Wilson'},\n",
       "  {'id': 2, 'name': 'Lupe Howe'}],\n",
       " 'greeting': 'Hello, Hebert Estes! You have 4 unread messages.',\n",
       " 'favoriteFruit': 'strawberry'}"
      ]
     },
     "execution_count": 52,
     "metadata": {},
     "output_type": "execute_result"
    }
   ],
   "source": [
    "profiles[0]"
   ]
  },
  {
   "cell_type": "code",
   "execution_count": 65,
   "metadata": {},
   "outputs": [
    {
     "data": {
      "text/plain": [
       "210"
      ]
     },
     "execution_count": 65,
     "metadata": {},
     "output_type": "execute_result"
    }
   ],
   "source": [
    "def extract_digits(s):\n",
    "    return ''.join([c for c in s if c.isdigit()])\n",
    "\n",
    "n_unread_messages = [int(extract_digits(profile['greeting'])) for profile in profiles]\n",
    "# sum([int(message) for message in n_unread_messages])\n",
    "sum(n_unread_messages)"
   ]
  },
  {
   "cell_type": "code",
   "execution_count": 55,
   "metadata": {},
   "outputs": [
    {
     "data": {
      "text/plain": [
       "'4'"
      ]
     },
     "execution_count": 55,
     "metadata": {},
     "output_type": "execute_result"
    }
   ],
   "source": [
    "extract_digits(profiles[0]['greeting'])"
   ]
  },
  {
   "cell_type": "code",
   "execution_count": 63,
   "metadata": {},
   "outputs": [
    {
     "data": {
      "text/plain": [
       "210"
      ]
     },
     "execution_count": 63,
     "metadata": {},
     "output_type": "execute_result"
    }
   ],
   "source": [
    "# create empty list\n",
    "unread_messages = []\n",
    "\n",
    "# loop through all profiles\n",
    "# extract the number, convert to int\n",
    "# append unread messages to list\n",
    "\n",
    "for profile in profiles:\n",
    "    unread_messages.append(int(extract_digits(profile['greeting'])))\n",
    "\n",
    "sum(unread_messages)"
   ]
  },
  {
   "cell_type": "code",
   "execution_count": 62,
   "metadata": {},
   "outputs": [
    {
     "data": {
      "text/plain": [
       "[4, 19, 5, 10, 9, 19, 13, 17, 2, 18, 2, 13, 7, 13, 12, 7, 19, 5, 16]"
      ]
     },
     "execution_count": 62,
     "metadata": {},
     "output_type": "execute_result"
    }
   ],
   "source": [
    "unread_messages"
   ]
  },
  {
   "cell_type": "code",
   "execution_count": null,
   "metadata": {},
   "outputs": [],
   "source": []
  }
 ],
 "metadata": {
  "kernelspec": {
   "display_name": "Python 3",
   "language": "python",
   "name": "python3"
  },
  "language_info": {
   "codemirror_mode": {
    "name": "ipython",
    "version": 3
   },
   "file_extension": ".py",
   "mimetype": "text/x-python",
   "name": "python",
   "nbconvert_exporter": "python",
   "pygments_lexer": "ipython3",
   "version": "3.6.8"
  }
 },
 "nbformat": 4,
 "nbformat_minor": 4
}
