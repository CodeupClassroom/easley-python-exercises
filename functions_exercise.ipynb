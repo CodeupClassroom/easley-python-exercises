{
 "cells": [
  {
   "cell_type": "code",
   "execution_count": 4,
   "metadata": {},
   "outputs": [
    {
     "data": {
      "text/plain": [
       "True"
      ]
     },
     "execution_count": 4,
     "metadata": {},
     "output_type": "execute_result"
    }
   ],
   "source": [
    "# is_two(anything) -> bool\n",
    "def is_two(x):\n",
    "    return x == 2 or x == \"2\"\n",
    "\n",
    "is_two(\"2\")"
   ]
  },
  {
   "cell_type": "code",
   "execution_count": 22,
   "metadata": {},
   "outputs": [
    {
     "name": "stdout",
     "output_type": "stream",
     "text": [
      "a\n",
      "b\n",
      "c\n",
      "d\n",
      "e\n",
      "f\n"
     ]
    }
   ],
   "source": [
    "for x in [\"a\", \"b\", \"c\", \"d\", \"e\", \"f\"]:\n",
    "    print(x)"
   ]
  },
  {
   "cell_type": "code",
   "execution_count": 23,
   "metadata": {},
   "outputs": [
    {
     "data": {
      "text/plain": [
       "True"
      ]
     },
     "execution_count": 23,
     "metadata": {},
     "output_type": "execute_result"
    }
   ],
   "source": [
    "# is_vowel(character: str) -> bool\n",
    "def is_vowel(c):\n",
    "    vowels = \"aeiou\"\n",
    "    return c.lower() in vowels\n",
    "\n",
    "is_vowel(\"U\")"
   ]
  },
  {
   "cell_type": "code",
   "execution_count": 33,
   "metadata": {},
   "outputs": [
    {
     "data": {
      "text/plain": [
       "True"
      ]
     },
     "execution_count": 33,
     "metadata": {},
     "output_type": "execute_result"
    }
   ],
   "source": [
    "# is_consonant(character: str) -> bool\n",
    "def is_consonant(c):\n",
    "    return c.isalpha() and not is_vowel(c)\n",
    "\n",
    "is_consonant(\"C\")"
   ]
  },
  {
   "cell_type": "code",
   "execution_count": 35,
   "metadata": {},
   "outputs": [
    {
     "data": {
      "text/plain": [
       "'easley'"
      ]
     },
     "execution_count": 35,
     "metadata": {},
     "output_type": "execute_result"
    }
   ],
   "source": [
    "# capitalize_if_consonant(word: str) -> str\n",
    "def capitalize_if_consonant(word):\n",
    "    first_letter = word[0]\n",
    "    if is_consonant(first_letter):\n",
    "        return word.capitalize()\n",
    "    else:\n",
    "        return word\n",
    "\n",
    "capitalize_if_consonant(\"easley\")"
   ]
  },
  {
   "cell_type": "code",
   "execution_count": 44,
   "metadata": {},
   "outputs": [
    {
     "data": {
      "text/plain": [
       "6.43"
      ]
     },
     "execution_count": 44,
     "metadata": {},
     "output_type": "execute_result"
    }
   ],
   "source": [
    "# calculate_tip(percentage: float, bill: float) -> float\n",
    "\n",
    "def calculate_tip(percentage, bill):\n",
    "    # handle the case where a number, 1-100 is passed\n",
    "    # for percentage\n",
    "    if percentage > 1:\n",
    "        percentage /= 100\n",
    "    tip_amount = percentage * bill\n",
    "    return round(tip_amount, 2)\n",
    "\n",
    "calculate_tip(25, 25.73)"
   ]
  },
  {
   "cell_type": "code",
   "execution_count": 42,
   "metadata": {},
   "outputs": [
    {
     "ename": "Exception",
     "evalue": "Percentage must be between 0 and 1",
     "output_type": "error",
     "traceback": [
      "\u001b[0;31m---------------------------------------------------------------------------\u001b[0m",
      "\u001b[0;31mException\u001b[0m                                 Traceback (most recent call last)",
      "\u001b[0;32m<ipython-input-42-cb96a2b05c5c>\u001b[0m in \u001b[0;36m<module>\u001b[0;34m\u001b[0m\n\u001b[1;32m      7\u001b[0m     \u001b[0;32mreturn\u001b[0m \u001b[0mtip_amount\u001b[0m\u001b[0;34m\u001b[0m\u001b[0;34m\u001b[0m\u001b[0m\n\u001b[1;32m      8\u001b[0m \u001b[0;34m\u001b[0m\u001b[0m\n\u001b[0;32m----> 9\u001b[0;31m \u001b[0mcalculate_tip\u001b[0m\u001b[0;34m(\u001b[0m\u001b[0;36m25\u001b[0m\u001b[0;34m,\u001b[0m \u001b[0;36m50\u001b[0m\u001b[0;34m)\u001b[0m\u001b[0;34m\u001b[0m\u001b[0;34m\u001b[0m\u001b[0m\n\u001b[0m",
      "\u001b[0;32m<ipython-input-42-cb96a2b05c5c>\u001b[0m in \u001b[0;36mcalculate_tip\u001b[0;34m(percentage, bill)\u001b[0m\n\u001b[1;32m      3\u001b[0m \u001b[0;32mdef\u001b[0m \u001b[0mcalculate_tip\u001b[0m\u001b[0;34m(\u001b[0m\u001b[0mpercentage\u001b[0m\u001b[0;34m,\u001b[0m \u001b[0mbill\u001b[0m\u001b[0;34m)\u001b[0m\u001b[0;34m:\u001b[0m\u001b[0;34m\u001b[0m\u001b[0;34m\u001b[0m\u001b[0m\n\u001b[1;32m      4\u001b[0m     \u001b[0;32mif\u001b[0m \u001b[0mpercentage\u001b[0m \u001b[0;34m<\u001b[0m \u001b[0;36m0\u001b[0m \u001b[0;32mor\u001b[0m \u001b[0mpercentage\u001b[0m \u001b[0;34m>\u001b[0m \u001b[0;36m1\u001b[0m\u001b[0;34m:\u001b[0m\u001b[0;34m\u001b[0m\u001b[0;34m\u001b[0m\u001b[0m\n\u001b[0;32m----> 5\u001b[0;31m         \u001b[0;32mraise\u001b[0m \u001b[0mException\u001b[0m\u001b[0;34m(\u001b[0m\u001b[0;34m\"Percentage must be between 0 and 1\"\u001b[0m\u001b[0;34m)\u001b[0m\u001b[0;34m\u001b[0m\u001b[0;34m\u001b[0m\u001b[0m\n\u001b[0m\u001b[1;32m      6\u001b[0m     \u001b[0mtip_amount\u001b[0m \u001b[0;34m=\u001b[0m \u001b[0mpercentage\u001b[0m \u001b[0;34m*\u001b[0m \u001b[0mbill\u001b[0m\u001b[0;34m\u001b[0m\u001b[0;34m\u001b[0m\u001b[0m\n\u001b[1;32m      7\u001b[0m     \u001b[0;32mreturn\u001b[0m \u001b[0mtip_amount\u001b[0m\u001b[0;34m\u001b[0m\u001b[0;34m\u001b[0m\u001b[0m\n",
      "\u001b[0;31mException\u001b[0m: Percentage must be between 0 and 1"
     ]
    }
   ],
   "source": [
    "# calculate_tip(percentage: float, bill: float) -> float\n",
    "\n",
    "def calculate_tip(percentage, bill):\n",
    "    if percentage < 0 or percentage > 1:\n",
    "        raise Exception(\"Percentage must be between 0 and 1\")\n",
    "    tip_amount = percentage * bill\n",
    "    return tip_amount\n",
    "\n",
    "calculate_tip(25, 50)"
   ]
  },
  {
   "cell_type": "code",
   "execution_count": 46,
   "metadata": {},
   "outputs": [
    {
     "data": {
      "text/plain": [
       "40.0"
      ]
     },
     "execution_count": 46,
     "metadata": {},
     "output_type": "execute_result"
    }
   ],
   "source": [
    "# apply_discount(price: float, discount: float) -> float\n",
    "def apply_discount(price, discount):\n",
    "    discount_amount = price * discount\n",
    "    return price - discount_amount\n",
    "\n",
    "apply_discount(50, .20)"
   ]
  },
  {
   "cell_type": "code",
   "execution_count": 51,
   "metadata": {},
   "outputs": [
    {
     "data": {
      "text/plain": [
       "1000000.0"
      ]
     },
     "execution_count": 51,
     "metadata": {},
     "output_type": "execute_result"
    }
   ],
   "source": [
    "# handle_commas(s: str) -> float\n",
    "def handle_commas(s):\n",
    "    return float(s.replace(\",\", \"\"))\n",
    "\n",
    "handle_commas(\"1,000,000.00\")"
   ]
  },
  {
   "cell_type": "code",
   "execution_count": 56,
   "metadata": {},
   "outputs": [
    {
     "data": {
      "text/plain": [
       "'F'"
      ]
     },
     "execution_count": 56,
     "metadata": {},
     "output_type": "execute_result"
    }
   ],
   "source": [
    "# get_letter_grade(numeric_grade: float) -> str\n",
    "def get_letter_grade(numeric_grade):\n",
    "    if numeric_grade > 90:\n",
    "        return \"A\"\n",
    "    elif numeric_grade > 80:\n",
    "        return \"B\"\n",
    "    elif numeric_grade > 70:\n",
    "        return \"C\"\n",
    "    else:\n",
    "        return \"F\"\n",
    "\n",
    "get_letter_grade(60)"
   ]
  },
  {
   "cell_type": "code",
   "execution_count": 60,
   "metadata": {},
   "outputs": [
    {
     "data": {
      "text/plain": [
       "'bcdf'"
      ]
     },
     "execution_count": 60,
     "metadata": {},
     "output_type": "execute_result"
    }
   ],
   "source": [
    "# remove_vowels(s: str) -> str\n",
    "def remove_vowels(string):\n",
    "    # look at each letter in the string\n",
    "    # if it's a vowel, it should not be included in the\n",
    "    # new string\n",
    "    new_string = []\n",
    "    for character in string:\n",
    "        if not is_vowel(character):\n",
    "            new_string.append(character)\n",
    "    return \"\".join(new_string)\n",
    "\n",
    "remove_vowels(\"abcdef\")"
   ]
  },
  {
   "cell_type": "markdown",
   "metadata": {},
   "source": [
    "General rule of thumb: `return`s go at the top-level of a function"
   ]
  },
  {
   "cell_type": "code",
   "execution_count": 68,
   "metadata": {},
   "outputs": [
    {
     "name": "stdout",
     "output_type": "stream",
     "text": [
      "remove_vowels called! Processing: bcd\n",
      "- Start of for loop. Processing: b\n",
      "  Inside if. Adding b to new_string\n",
      "  End of for loop. new_string: ['b']\n",
      "- Start of for loop. Processing: c\n",
      "  Inside if. Adding c to new_string\n",
      "  End of for loop. new_string: ['b', 'c']\n",
      "- Start of for loop. Processing: d\n",
      "  Inside if. Adding d to new_string\n",
      "  End of for loop. new_string: ['b', 'c', 'd']\n"
     ]
    },
    {
     "data": {
      "text/plain": [
       "'bcd'"
      ]
     },
     "execution_count": 68,
     "metadata": {},
     "output_type": "execute_result"
    }
   ],
   "source": [
    "# remove_vowels(s: str) -> str\n",
    "def remove_vowels(string):\n",
    "    new_string = []\n",
    "    print(f\"remove_vowels called! Processing: {string}\")\n",
    "    for character in string:\n",
    "        print(f\"- Start of for loop. Processing: {character}\")\n",
    "        if not is_vowel(character):\n",
    "            print(f\"  Inside if. Adding {character} to new_string\")\n",
    "            new_string.append(character)\n",
    "        print(f\"  End of for loop. new_string: {new_string}\")\n",
    "    return \"\".join(new_string)\n",
    "\n",
    "remove_vowels(\"bcd\")"
   ]
  },
  {
   "cell_type": "code",
   "execution_count": 69,
   "metadata": {},
   "outputs": [
    {
     "data": {
      "text/plain": [
       "'bcdf'"
      ]
     },
     "execution_count": 69,
     "metadata": {},
     "output_type": "execute_result"
    }
   ],
   "source": [
    "def remove_vowels(string):\n",
    "    return \"\".join([c for c in string if not is_vowel(c)])\n",
    "\n",
    "remove_vowels(\"abcdef\")"
   ]
  },
  {
   "cell_type": "code",
   "execution_count": 83,
   "metadata": {},
   "outputs": [
    {
     "name": "stdout",
     "output_type": "stream",
     "text": [
      "Removing non-whitespace or alnum\n",
      "\n",
      "- Inside for loop. Processing %\n",
      "  valid_identifier: []\n",
      "- Inside for loop. Processing  \n",
      "  Adding   to list...\n",
      "  valid_identifier: [' ']\n",
      "- Inside for loop. Processing C\n",
      "  Adding C to list...\n",
      "  valid_identifier: [' ', 'C']\n",
      "- Inside for loop. Processing o\n",
      "  Adding o to list...\n",
      "  valid_identifier: [' ', 'C', 'o']\n",
      "- Inside for loop. Processing m\n",
      "  Adding m to list...\n",
      "  valid_identifier: [' ', 'C', 'o', 'm']\n",
      "- Inside for loop. Processing p\n",
      "  Adding p to list...\n",
      "  valid_identifier: [' ', 'C', 'o', 'm', 'p']\n",
      "- Inside for loop. Processing l\n",
      "  Adding l to list...\n",
      "  valid_identifier: [' ', 'C', 'o', 'm', 'p', 'l']\n",
      "- Inside for loop. Processing e\n",
      "  Adding e to list...\n",
      "  valid_identifier: [' ', 'C', 'o', 'm', 'p', 'l', 'e']\n",
      "- Inside for loop. Processing t\n",
      "  Adding t to list...\n",
      "  valid_identifier: [' ', 'C', 'o', 'm', 'p', 'l', 'e', 't']\n",
      "- Inside for loop. Processing e\n",
      "  Adding e to list...\n",
      "  valid_identifier: [' ', 'C', 'o', 'm', 'p', 'l', 'e', 't', 'e']\n",
      "- Inside for loop. Processing d\n",
      "  Adding d to list...\n",
      "  valid_identifier: [' ', 'C', 'o', 'm', 'p', 'l', 'e', 't', 'e', 'd']\n",
      "Lowercased and converted to a string.\n",
      "valid_identifier:  completed\n",
      "completed\n",
      "completed\n"
     ]
    },
    {
     "data": {
      "text/plain": [
       "'completed'"
      ]
     },
     "execution_count": 83,
     "metadata": {},
     "output_type": "execute_result"
    }
   ],
   "source": [
    "# normalize_name(s: str) -> str\n",
    "def normalize_name(s):\n",
    "    valid_identifier = []\n",
    "    # remove anything that's not whitespace or alphanum\n",
    "    print(\"Removing non-whitespace or alnum\")\n",
    "    print()\n",
    "    for character in s:\n",
    "        print(f\"- Inside for loop. Processing {character}\")\n",
    "        if character.isidentifier() or character == ' ':\n",
    "            print(f\"  Adding {character} to list...\")\n",
    "            valid_identifier.append(character)\n",
    "        print(f\"  valid_identifier: {valid_identifier}\")\n",
    "    # convert back to a string\n",
    "    valid_identifier = \"\".join(valid_identifier)\n",
    "    valid_identifier = valid_identifier.lower()\n",
    "    print(\"Lowercased and converted to a string.\")\n",
    "    print(f\"valid_identifier: {valid_identifier}\")\n",
    "    valid_identifier = valid_identifier.strip()\n",
    "    print(valid_identifier)\n",
    "    valid_identifier = valid_identifier.replace(\" \", \"_\")\n",
    "    print(valid_identifier)\n",
    "    \n",
    "    return valid_identifier\n",
    "\n",
    "normalize_name('% Completed')"
   ]
  },
  {
   "cell_type": "code",
   "execution_count": 86,
   "metadata": {},
   "outputs": [
    {
     "data": {
      "text/plain": [
       "'first_name'"
      ]
     },
     "execution_count": 86,
     "metadata": {},
     "output_type": "execute_result"
    }
   ],
   "source": [
    "# normalize_name(s: str) -> str\n",
    "def normalize_name(s):\n",
    "    valid_identifier = []\n",
    "    # remove anything that's not whitespace or alphanum\n",
    "    for character in s:\n",
    "        if character.isidentifier() or character == ' ':\n",
    "            valid_identifier.append(character)\n",
    "\n",
    "    # convert to string\n",
    "    valid_identifier = \"\".join(valid_identifier)\n",
    "    # lowercase, remove leading and trailing whitespace\n",
    "    valid_identifier = valid_identifier.lower()\n",
    "    valid_identifier = valid_identifier.strip()\n",
    "    # replace \" \" with \"_\"\n",
    "    valid_identifier = valid_identifier.replace(\" \", \"_\")\n",
    "    \n",
    "    return valid_identifier\n",
    "\n",
    "normalize_name('First Name')"
   ]
  },
  {
   "cell_type": "code",
   "execution_count": 91,
   "metadata": {},
   "outputs": [
    {
     "data": {
      "text/plain": [
       "0.05"
      ]
     },
     "execution_count": 91,
     "metadata": {},
     "output_type": "execute_result"
    }
   ],
   "source": [
    "# Probably not a good idea! stick to the alphabet + numbers\n",
    "α = .05\n",
    "\n",
    "α"
   ]
  },
  {
   "cell_type": "code",
   "execution_count": 98,
   "metadata": {},
   "outputs": [
    {
     "name": "stdout",
     "output_type": "stream",
     "text": [
      "Starting out. sums: [1]\n",
      "- Start of for loop. Processing 2\n",
      "  End of for loop. sums: [1, 3]\n",
      "- Start of for loop. Processing 3\n",
      "  End of for loop. sums: [1, 3, 6]\n",
      "- Start of for loop. Processing 4\n",
      "  End of for loop. sums: [1, 3, 6, 10]\n",
      "- Start of for loop. Processing 5\n",
      "  End of for loop. sums: [1, 3, 6, 10, 15]\n"
     ]
    }
   ],
   "source": [
    "# cumulative_sum([1, 1, 1]) == [1, 2, 3]\n",
    "# [1, 1 + 1, 1 + 2]\n",
    "\n",
    "# cumulative_sum(l: list[int]) -> list[int]\n",
    "def cumulative_sum(list_of_numbers):\n",
    "    sums = [list_of_numbers[0]]\n",
    "    print(f\"Starting out. sums: {sums}\")\n",
    "    # for each number in the list, add it to the previous total\n",
    "    for n in list_of_numbers[1:]:\n",
    "        print(f\"- Start of for loop. Processing {n}\")\n",
    "        previous_total = sums[-1]\n",
    "        sums.append(previous_total + n)\n",
    "        print(f\"  End of for loop. sums: {sums}\")\n",
    "\n",
    "cumulative_sum([1, 2, 3, 4, 5])    "
   ]
  },
  {
   "cell_type": "code",
   "execution_count": 108,
   "metadata": {},
   "outputs": [
    {
     "data": {
      "text/plain": [
       "[1, 3, 6]"
      ]
     },
     "execution_count": 108,
     "metadata": {},
     "output_type": "execute_result"
    }
   ],
   "source": [
    "# cumulative_sum([1, 1, 1]) == [1, 2, 3]\n",
    "# [1, 1 + 1, 1 + 2]\n",
    "\n",
    "# cumulative_sum(l: list[int]) -> list[int]\n",
    "def cumulative_sum(list_of_numbers):\n",
    "    # for each number in the list, add it to the previous total\n",
    "    # the first number is a special case\n",
    "    sums = [list_of_numbers[0]]\n",
    "    # loop through the remaining numbers\n",
    "    for n in list_of_numbers[1:]:\n",
    "        previous_total = sums[-1]\n",
    "        sums.append(previous_total + n)\n",
    "    return sums\n",
    "\n",
    "cumulative_sum([1, 2, 3])"
   ]
  },
  {
   "cell_type": "code",
   "execution_count": 106,
   "metadata": {},
   "outputs": [
    {
     "data": {
      "text/plain": [
       "[2, 3]"
      ]
     },
     "execution_count": 106,
     "metadata": {},
     "output_type": "execute_result"
    }
   ],
   "source": [
    "l = [1, 2, 3]\n",
    "l[1:]"
   ]
  },
  {
   "cell_type": "code",
   "execution_count": 107,
   "metadata": {},
   "outputs": [
    {
     "data": {
      "text/plain": [
       "[1, 2]"
      ]
     },
     "execution_count": 107,
     "metadata": {},
     "output_type": "execute_result"
    }
   ],
   "source": [
    "l[:2]"
   ]
  },
  {
   "cell_type": "code",
   "execution_count": 102,
   "metadata": {},
   "outputs": [],
   "source": [
    "# this is not super readable...\n",
    "# l = [1, 2, 3]\n",
    "# [sum(l[:i + 1]) for i, _ in enumerate(l)]"
   ]
  }
 ],
 "metadata": {
  "kernelspec": {
   "display_name": "Python 3",
   "language": "python",
   "name": "python3"
  },
  "language_info": {
   "codemirror_mode": {
    "name": "ipython",
    "version": 3
   },
   "file_extension": ".py",
   "mimetype": "text/x-python",
   "name": "python",
   "nbconvert_exporter": "python",
   "pygments_lexer": "ipython3",
   "version": "3.8.3"
  }
 },
 "nbformat": 4,
 "nbformat_minor": 4
}
