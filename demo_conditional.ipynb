{
 "cells": [
  {
   "cell_type": "markdown",
   "metadata": {},
   "source": [
    "- Prompt the user for an odd number between 1 and 50. \n",
    "- Use a loop and a break statement to continue prompting the user if they enter invalid input. \n",
    "- (Hint: use the isdigit method on strings to determine this). \n",
    "\n",
    "- Use a loop and the continue statement to output all the odd numbers between 1 and 50, except for the number the user entered."
   ]
  },
  {
   "cell_type": "code",
   "execution_count": 1,
   "metadata": {},
   "outputs": [],
   "source": [
    "# If we know that input() function returns a string no matter what, we can build up our conditional before making a while loop"
   ]
  },
  {
   "cell_type": "code",
   "execution_count": 9,
   "metadata": {},
   "outputs": [],
   "source": [
    "a = \"11\"\n",
    "b = \"banana\"\n",
    "c = \"5555\"\n",
    "d = \"-567\"\n",
    "e = \"3.141\""
   ]
  },
  {
   "cell_type": "code",
   "execution_count": 3,
   "metadata": {},
   "outputs": [],
   "source": [
    "# The while loop only runs if the condition is true...\n",
    "# So we'll need a condition or a compound condition\n",
    "# And for now, let's blow off the loop completely... all we need is a conditional that returns true/false"
   ]
  },
  {
   "cell_type": "code",
   "execution_count": 4,
   "metadata": {},
   "outputs": [
    {
     "data": {
      "text/plain": [
       "5"
      ]
     },
     "execution_count": 4,
     "metadata": {},
     "output_type": "execute_result"
    }
   ],
   "source": [
    "# need to make sure that the input is a numeral\n",
    "# need to make sure that the input is a number greater than 1 and less than 50\n",
    "# ensure that the input is odd"
   ]
  },
  {
   "cell_type": "code",
   "execution_count": 5,
   "metadata": {},
   "outputs": [],
   "source": [
    "# Blow off the loop so you can actually think about the conditional"
   ]
  },
  {
   "cell_type": "code",
   "execution_count": 10,
   "metadata": {},
   "outputs": [
    {
     "data": {
      "text/plain": [
       "True"
      ]
     },
     "execution_count": 10,
     "metadata": {},
     "output_type": "execute_result"
    }
   ],
   "source": [
    "# .isdigit() makes sure that we have an integer inside that string\n",
    "a.isdigit()"
   ]
  },
  {
   "cell_type": "code",
   "execution_count": 12,
   "metadata": {},
   "outputs": [
    {
     "data": {
      "text/plain": [
       "False"
      ]
     },
     "execution_count": 12,
     "metadata": {},
     "output_type": "execute_result"
    }
   ],
   "source": [
    "int(a) > 50"
   ]
  },
  {
   "cell_type": "code",
   "execution_count": 13,
   "metadata": {},
   "outputs": [
    {
     "data": {
      "text/plain": [
       "False"
      ]
     },
     "execution_count": 13,
     "metadata": {},
     "output_type": "execute_result"
    }
   ],
   "source": [
    "int(a) < 1"
   ]
  },
  {
   "cell_type": "code",
   "execution_count": 14,
   "metadata": {},
   "outputs": [
    {
     "data": {
      "text/plain": [
       "False"
      ]
     },
     "execution_count": 14,
     "metadata": {},
     "output_type": "execute_result"
    }
   ],
   "source": [
    "int(a) % 2 == 0"
   ]
  },
  {
   "cell_type": "code",
   "execution_count": 15,
   "metadata": {},
   "outputs": [
    {
     "name": "stdout",
     "output_type": "stream",
     "text": [
      "The input 11 is a good input\n"
     ]
    }
   ],
   "source": [
    "# So we have to string these together w/ a boolean operator like OR or AND..\n",
    "# IN this case, let's focus on using an OR, since only one condition returning true means that the input is rubbish\n",
    "\n",
    "if not a.isdigit() or int(a) > 50 or int(a) < 1 or int(a) % 2 == 0:\n",
    "    print(\"The input is rubbish\")\n",
    "else:\n",
    "    print(f\"The input {a} is a good input\")"
   ]
  },
  {
   "cell_type": "code",
   "execution_count": 16,
   "metadata": {},
   "outputs": [
    {
     "name": "stdout",
     "output_type": "stream",
     "text": [
      "The input is rubbish\n"
     ]
    }
   ],
   "source": [
    "# So we have to string these together w/ a boolean operator like OR or AND..\n",
    "# IN this case, let's focus on using an OR, since only one condition returning true means that the input is rubbish\n",
    "\n",
    "if not b.isdigit() or int(b) > 50 or int(b) < 1 or int(b) % 2 == 0:\n",
    "    print(\"The input is rubbish\")\n",
    "else:\n",
    "    print(f\"The input {b} is a good input\")"
   ]
  },
  {
   "cell_type": "code",
   "execution_count": null,
   "metadata": {},
   "outputs": [],
   "source": []
  }
 ],
 "metadata": {
  "kernelspec": {
   "display_name": "Python 3",
   "language": "python",
   "name": "python3"
  },
  "language_info": {
   "codemirror_mode": {
    "name": "ipython",
    "version": 3
   },
   "file_extension": ".py",
   "mimetype": "text/x-python",
   "name": "python",
   "nbconvert_exporter": "python",
   "pygments_lexer": "ipython3",
   "version": "3.7.3"
  }
 },
 "nbformat": 4,
 "nbformat_minor": 4
}
