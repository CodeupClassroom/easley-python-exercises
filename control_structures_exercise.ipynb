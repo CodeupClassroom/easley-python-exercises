{
 "cells": [
  {
   "cell_type": "markdown",
   "metadata": {},
   "source": [
    "## Conditional Basics"
   ]
  },
  {
   "cell_type": "code",
   "execution_count": 4,
   "metadata": {},
   "outputs": [
    {
     "name": "stdout",
     "output_type": "stream",
     "text": [
      "Please enter a day of the week: Mon\n",
      "That day is monday!\n"
     ]
    }
   ],
   "source": [
    "weekday_selection = input(\"Please enter a day of the week: \")\n",
    "\n",
    "if weekday_selection.startswith(\"Mon\"):\n",
    "    print(\"That day is monday!\")\n",
    "else:\n",
    "    print(\"That day is not monday!\")"
   ]
  },
  {
   "cell_type": "code",
   "execution_count": 10,
   "metadata": {},
   "outputs": [
    {
     "name": "stdout",
     "output_type": "stream",
     "text": [
      "Please enter a day of the week: Thursday\n",
      "Thursday is not a weekend.\n"
     ]
    }
   ],
   "source": [
    "weekday_selection = input(\"Please enter a day of the week: \")\n",
    "\n",
    "if weekday_selection.lower().startswith('s'):\n",
    "    print(f\"{weekday_selection} is a weekend day!\")\n",
    "else:\n",
    "    print(f\"{weekday_selection} is not a weekend.\")"
   ]
  },
  {
   "cell_type": "code",
   "execution_count": 15,
   "metadata": {},
   "outputs": [
    {
     "data": {
      "text/plain": [
       "4150.0"
      ]
     },
     "execution_count": 15,
     "metadata": {},
     "output_type": "execute_result"
    }
   ],
   "source": [
    "hours_worked = 41\n",
    "hourly_rate = 100\n",
    "\n",
    "# if > 40 hours worked, the hours over 40 get 1.5 times hourly rate\n",
    "if hours_worked > 40:\n",
    "    overtime_hours = hours_worked - 40\n",
    "    overtime_pay = overtime_hours * hourly_rate * 0.5\n",
    "else:\n",
    "    overtime_pay = 0\n",
    "\n",
    "paycheck = hours_worked * hourly_rate + overtime_pay\n",
    "paycheck"
   ]
  },
  {
   "cell_type": "markdown",
   "metadata": {},
   "source": [
    "## Loop Basics"
   ]
  },
  {
   "cell_type": "code",
   "execution_count": 16,
   "metadata": {},
   "outputs": [
    {
     "name": "stdout",
     "output_type": "stream",
     "text": [
      "i: 5\n",
      "i: 6\n",
      "i: 7\n",
      "i: 8\n",
      "i: 9\n",
      "i: 10\n",
      "i: 11\n",
      "i: 12\n",
      "i: 13\n",
      "i: 14\n",
      "i: 15\n"
     ]
    }
   ],
   "source": [
    "i = 5\n",
    "\n",
    "while i <= 15:\n",
    "    print(f\"i: {i}\")\n",
    "    i += 1"
   ]
  },
  {
   "cell_type": "code",
   "execution_count": 18,
   "metadata": {},
   "outputs": [
    {
     "name": "stdout",
     "output_type": "stream",
     "text": [
      "i: 100\n",
      "i: 95\n",
      "i: 90\n",
      "i: 85\n",
      "i: 80\n",
      "i: 75\n",
      "i: 70\n",
      "i: 65\n",
      "i: 60\n",
      "i: 55\n",
      "i: 50\n",
      "i: 45\n",
      "i: 40\n",
      "i: 35\n",
      "i: 30\n",
      "i: 25\n",
      "i: 20\n",
      "i: 15\n",
      "i: 10\n",
      "i: 5\n",
      "i: 0\n",
      "i: -5\n",
      "i: -10\n"
     ]
    }
   ],
   "source": [
    "i = 100\n",
    "\n",
    "# starts with 0 goes by 2s to 100\n",
    "\n",
    "while i >= -10:\n",
    "    print(f\"i: {i}\")\n",
    "    i -= 5"
   ]
  },
  {
   "cell_type": "code",
   "execution_count": 21,
   "metadata": {},
   "outputs": [
    {
     "name": "stdout",
     "output_type": "stream",
     "text": [
      "i: 2\n",
      "i: 4\n",
      "i: 16\n",
      "i: 256\n",
      "i: 65536\n"
     ]
    }
   ],
   "source": [
    "i = 2\n",
    "\n",
    "while i <= 1_000_000:\n",
    "    print(f\"i: {i}\")\n",
    "    # square (multiply the number by itself) the number\n",
    "    # i *= i\n",
    "    # i = i * i\n",
    "    # i **= 2\n",
    "    i = i ** 2\n"
   ]
  },
  {
   "cell_type": "code",
   "execution_count": 22,
   "metadata": {},
   "outputs": [
    {
     "name": "stdout",
     "output_type": "stream",
     "text": [
      "i: 100\n",
      "i: 95\n",
      "i: 90\n",
      "i: 85\n",
      "i: 80\n",
      "i: 75\n",
      "i: 70\n",
      "i: 65\n",
      "i: 60\n",
      "i: 55\n",
      "i: 50\n",
      "i: 45\n",
      "i: 40\n",
      "i: 35\n",
      "i: 30\n",
      "i: 25\n",
      "i: 20\n",
      "i: 15\n",
      "i: 10\n",
      "i: 5\n"
     ]
    }
   ],
   "source": [
    "i = 100\n",
    "\n",
    "while i >= 5:\n",
    "    print(f\"i: {i}\")\n",
    "    i -= 5"
   ]
  },
  {
   "cell_type": "code",
   "execution_count": 28,
   "metadata": {},
   "outputs": [
    {
     "name": "stdout",
     "output_type": "stream",
     "text": [
      "Please enter a number:7\n",
      "7 x 1 = 7\n",
      "7 x 2 = 14\n",
      "7 x 3 = 21\n",
      "7 x 4 = 28\n",
      "7 x 5 = 35\n",
      "7 x 6 = 42\n",
      "7 x 7 = 49\n",
      "7 x 8 = 56\n",
      "7 x 9 = 63\n",
      "7 x 10 = 70\n"
     ]
    }
   ],
   "source": [
    "x = int(input(\"Please enter a number:\"))\n",
    "\n",
    "for i in range(1, 11):\n",
    "    print(f\"{x} x {i} = {x * i}\")\n"
   ]
  },
  {
   "cell_type": "code",
   "execution_count": 30,
   "metadata": {},
   "outputs": [
    {
     "name": "stdout",
     "output_type": "stream",
     "text": [
      "1\n",
      "22\n",
      "333\n",
      "4444\n",
      "55555\n",
      "666666\n",
      "7777777\n",
      "88888888\n",
      "999999999\n"
     ]
    }
   ],
   "source": [
    "for i in range(1, 10):\n",
    "    print(str(i) * i)"
   ]
  },
  {
   "cell_type": "code",
   "execution_count": 36,
   "metadata": {},
   "outputs": [
    {
     "name": "stdout",
     "output_type": "stream",
     "text": [
      "Please enter an odd number between 1 and 50four\n",
      "Please enter an odd number between 1 and 504\n",
      "Please enter an odd number between 1 and 503\n",
      "Here is an odd number: 1\n",
      "Yikes! Skipping number: 3\n",
      "Here is an odd number: 5\n",
      "Here is an odd number: 7\n",
      "Here is an odd number: 9\n",
      "Here is an odd number: 11\n",
      "Here is an odd number: 13\n",
      "Here is an odd number: 15\n",
      "Here is an odd number: 17\n",
      "Here is an odd number: 19\n",
      "Here is an odd number: 21\n",
      "Here is an odd number: 23\n",
      "Here is an odd number: 25\n",
      "Here is an odd number: 27\n",
      "Here is an odd number: 29\n",
      "Here is an odd number: 31\n",
      "Here is an odd number: 33\n",
      "Here is an odd number: 35\n",
      "Here is an odd number: 37\n",
      "Here is an odd number: 39\n",
      "Here is an odd number: 41\n",
      "Here is an odd number: 43\n",
      "Here is an odd number: 45\n",
      "Here is an odd number: 47\n",
      "Here is an odd number: 49\n"
     ]
    }
   ],
   "source": [
    "# validate user input\n",
    "# whenever you see \"while True\", the intent is to create an\n",
    "# infinite loop\n",
    "while True:\n",
    "    user_number = input(\"Please enter an odd number between 1 and 50\")\n",
    "    if user_number.isdigit():\n",
    "        user_number = int(user_number)\n",
    "        if user_number % 2 == 0: # if it's even\n",
    "            continue\n",
    "        break\n",
    "\n",
    "i = 1\n",
    "while i <= 50:\n",
    "    if i == user_number:\n",
    "        print(f\"Yikes! Skipping number: {i}\")\n",
    "        i += 2\n",
    "        continue\n",
    "    print(f\"Here is an odd number: {i}\")\n",
    "    i += 2"
   ]
  },
  {
   "cell_type": "markdown",
   "metadata": {},
   "source": [
    "1. continuously\n",
    "    1. prompt the user for a positive number\n",
    "    1. Check if the input is composed of digits, if so\n",
    "        1. Convert to a numeric type\n",
    "        1. Check if the number is negative or 0, if so\n",
    "            1. Go back to square one\n",
    "        1. Stop the loop (`break`)"
   ]
  },
  {
   "cell_type": "code",
   "execution_count": 38,
   "metadata": {},
   "outputs": [
    {
     "name": "stdout",
     "output_type": "stream",
     "text": [
      "Please enter a positive number: 10\n",
      "0\n",
      "1\n",
      "2\n",
      "3\n",
      "4\n",
      "5\n",
      "6\n",
      "7\n",
      "8\n",
      "9\n",
      "10\n"
     ]
    }
   ],
   "source": [
    "# enter a positive number\n",
    "while True:\n",
    "    user_number = input(\"Please enter a positive number: \")\n",
    "    if user_number.isdigit():\n",
    "        user_number = int(user_number)\n",
    "        if user_number <= 0:\n",
    "            continue\n",
    "        break\n",
    "\n",
    "for i in range(0, user_number + 1):\n",
    "    print(i)"
   ]
  },
  {
   "cell_type": "code",
   "execution_count": 42,
   "metadata": {},
   "outputs": [
    {
     "data": {
      "text/plain": [
       "[10, 9, 8, 7, 6, 5, 4, 3, 2, 1]"
      ]
     },
     "execution_count": 42,
     "metadata": {},
     "output_type": "execute_result"
    }
   ],
   "source": [
    "list(range(10, 0, -1))"
   ]
  },
  {
   "cell_type": "code",
   "execution_count": 43,
   "metadata": {},
   "outputs": [
    {
     "name": "stdout",
     "output_type": "stream",
     "text": [
      "Please enter a positive number: 4\n",
      "4\n",
      "3\n",
      "2\n",
      "1\n"
     ]
    }
   ],
   "source": [
    "# enter a positive number\n",
    "while True:\n",
    "    user_number = input(\"Please enter a positive number: \")\n",
    "    if user_number.isdigit():\n",
    "        user_number = int(user_number)\n",
    "        if user_number <= 0:\n",
    "            continue\n",
    "        break\n",
    "\n",
    "for i in range(user_number, 0, -1):\n",
    "    print(i)"
   ]
  },
  {
   "cell_type": "code",
   "execution_count": 47,
   "metadata": {},
   "outputs": [
    {
     "name": "stdout",
     "output_type": "stream",
     "text": [
      "1\n",
      "2\n",
      "Fizz\n",
      "4\n",
      "Buzz\n",
      "Fizz\n",
      "7\n",
      "8\n",
      "Fizz\n",
      "Buzz\n",
      "11\n",
      "Fizz\n",
      "13\n",
      "14\n",
      "FizzBuzz\n",
      "16\n",
      "17\n",
      "Fizz\n",
      "19\n",
      "Buzz\n",
      "Fizz\n",
      "22\n",
      "23\n",
      "Fizz\n",
      "Buzz\n",
      "26\n",
      "Fizz\n",
      "28\n",
      "29\n",
      "FizzBuzz\n",
      "31\n",
      "32\n",
      "Fizz\n",
      "34\n",
      "Buzz\n",
      "Fizz\n",
      "37\n",
      "38\n",
      "Fizz\n",
      "Buzz\n",
      "41\n",
      "Fizz\n",
      "43\n",
      "44\n",
      "FizzBuzz\n",
      "46\n",
      "47\n",
      "Fizz\n",
      "49\n",
      "Buzz\n",
      "Fizz\n",
      "52\n",
      "53\n",
      "Fizz\n",
      "Buzz\n",
      "56\n",
      "Fizz\n",
      "58\n",
      "59\n",
      "FizzBuzz\n",
      "61\n",
      "62\n",
      "Fizz\n",
      "64\n",
      "Buzz\n",
      "Fizz\n",
      "67\n",
      "68\n",
      "Fizz\n",
      "Buzz\n",
      "71\n",
      "Fizz\n",
      "73\n",
      "74\n",
      "FizzBuzz\n",
      "76\n",
      "77\n",
      "Fizz\n",
      "79\n",
      "Buzz\n",
      "Fizz\n",
      "82\n",
      "83\n",
      "Fizz\n",
      "Buzz\n",
      "86\n",
      "Fizz\n",
      "88\n",
      "89\n",
      "FizzBuzz\n",
      "91\n",
      "92\n",
      "Fizz\n",
      "94\n",
      "Buzz\n",
      "Fizz\n",
      "97\n",
      "98\n",
      "Fizz\n",
      "Buzz\n"
     ]
    }
   ],
   "source": [
    "for i in range(1, 101):\n",
    "    if i % 5 == 0 and i % 3 == 0:\n",
    "        print('FizzBuzz')\n",
    "    elif i % 3 == 0:\n",
    "        print('Fizz')\n",
    "    elif i % 5 == 0:\n",
    "        print('Buzz')\n",
    "    else:\n",
    "        print(i)"
   ]
  },
  {
   "cell_type": "markdown",
   "metadata": {},
   "source": [
    "## Table of Powers"
   ]
  },
  {
   "cell_type": "code",
   "execution_count": 54,
   "metadata": {},
   "outputs": [
    {
     "name": "stdout",
     "output_type": "stream",
     "text": [
      "Please enter an integer: 5\n",
      "\n",
      "number | squared | cubed\n",
      "------ | ------- | -----\n",
      "     1 |       1 |     1\n",
      "     2 |       4 |     8\n",
      "     3 |       9 |    27\n",
      "     4 |      16 |    64\n",
      "     5 |      25 |   125\n"
     ]
    }
   ],
   "source": [
    "user_input = int(input(\"Please enter an integer: \"))\n",
    "\n",
    "print()\n",
    "print(\"number | squared | cubed\")\n",
    "print(\"------ | ------- | -----\")\n",
    "for i in range(1, user_input + 1):\n",
    "    print(\"%6d | %7d | %5d\" % (i, i**2, i**3))"
   ]
  },
  {
   "cell_type": "markdown",
   "metadata": {},
   "source": [
    "## Converting Grades"
   ]
  },
  {
   "cell_type": "code",
   "execution_count": 65,
   "metadata": {},
   "outputs": [
    {
     "name": "stdout",
     "output_type": "stream",
     "text": [
      "Please enter a number grade: 90\n",
      "A\n",
      "Do you want to continue? y\n",
      "Please enter a number grade: 78\n",
      "C\n",
      "Do you want to continue? YES\n",
      "Please enter a number grade: 70\n",
      "C\n",
      "Do you want to continue? Yes I do\n",
      "Please enter a number grade: 90\n",
      "A\n",
      "Do you want to continue? I do not\n"
     ]
    }
   ],
   "source": [
    "while True:\n",
    "    # TODO: prompt user for this value\n",
    "    numeric_grade = int(input(\"Please enter a number grade: \"))\n",
    "\n",
    "    # convert to letter\n",
    "    if numeric_grade >= 88:\n",
    "        print(\"A\")\n",
    "    elif numeric_grade >= 80:\n",
    "        print(\"B\")\n",
    "    elif numeric_grade >= 67:\n",
    "        print(\"C\")\n",
    "    elif numeric_grade >= 60:\n",
    "        print(\"D\")\n",
    "    else:\n",
    "        print(\"F\")\n",
    "    \n",
    "    wants_to_continue = input(\"Do you want to continue? \")\n",
    "    if not wants_to_continue.lower().startswith(\"y\"):\n",
    "        break"
   ]
  },
  {
   "cell_type": "markdown",
   "metadata": {},
   "source": [
    "## List of dicts"
   ]
  },
  {
   "cell_type": "code",
   "execution_count": 72,
   "metadata": {},
   "outputs": [
    {
     "name": "stdout",
     "output_type": "stream",
     "text": [
      "Please enter a genre: Science Fiction\n",
      "---\n",
      "Title: Parable of the Sower\n",
      "Author: Octavia E. Butler\n",
      "Genre: Science Fiction\n",
      "---\n",
      "Title: Dune\n",
      "Author: Frank Herbert\n",
      "Genre: Science Fiction\n",
      "---\n",
      "Title: Star Wars: The Old Republic - Revan\n",
      "Author: Sean Williams\n",
      "Genre: Science Fiction\n"
     ]
    }
   ],
   "source": [
    "# consider that this data structure could represent rows from a\n",
    "# database table\n",
    "books = [\n",
    "    {\"title\": \"This is where I leave you\", \"author\": \"Jonathan Tropper\", \"genre\": \"Adult Fiction\"},\n",
    "    {'title': 'Parable of the Sower', 'author': 'Octavia E. Butler', 'genre': 'Science Fiction'},\n",
    "    {\"title\": \"Dune\", \"author\": \"Frank Herbert\", \"genre\": \"Science Fiction\"},\n",
    "    {'title': 'The Singularity is Near', 'author': 'Ray Kurzweil', 'genre': 'Artificial intelligence/Technology'},\n",
    "    {\"title\": \"Star Wars: The Old Republic - Revan\", \"author\": \"Sean Williams\", \"genre\": \"Science Fiction\"},\n",
    "]\n",
    "\n",
    "selected_genre = input(\"Please enter a genre: \")\n",
    "selected_books = [book for book in books if book['genre'] == selected_genre]\n",
    "\n",
    "# for singular in plural\n",
    "# plural variable names indicate a list of things\n",
    "# the singular version is one thing from the list\n",
    "for book in selected_books:\n",
    "    print(\"---\")\n",
    "    # print(\"title: {}\".format(book['title']))\n",
    "    # print(\"author: {}\".format(book['author']))\n",
    "    # print(\"genre: {}\".format(book['genre']))\n",
    "    \n",
    "    # other ways to do it\n",
    "    print(\"Title: %s\" % book['title'])\n",
    "    print(\"Author: \" + book['author'])\n",
    "    print(f\"Genre: {book['genre']}\")\n"
   ]
  }
 ],
 "metadata": {
  "kernelspec": {
   "display_name": "Python 3",
   "language": "python",
   "name": "python3"
  },
  "language_info": {
   "codemirror_mode": {
    "name": "ipython",
    "version": 3
   },
   "file_extension": ".py",
   "mimetype": "text/x-python",
   "name": "python",
   "nbconvert_exporter": "python",
   "pygments_lexer": "ipython3",
   "version": "3.8.3"
  }
 },
 "nbformat": 4,
 "nbformat_minor": 4
}
