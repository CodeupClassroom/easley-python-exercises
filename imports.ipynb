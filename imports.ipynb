{
 "cells": [
  {
   "cell_type": "markdown",
   "metadata": {},
   "source": [
    "# Imports\n",
    "\n",
    "\n",
    "We **import** libraries or modules into our current python session in order to use the functions, methods, or variables within it. We can also directly import specific functions, methods or variables, as opposed to the entire module. \n",
    "\n",
    "_______________________\n",
    "\n",
    "\n",
    "## Goals\n",
    "\n",
    "Following this lesson you should be able to:\n",
    "\n",
    "1. Understand the differences between Modules, Libraries & Packages. \n",
    "\n",
    "2. Install a new package, taking adequate safety measures. \n",
    "\n",
    "3. Import a base python or pypi module, with and without an alias, and run a function that exists in that module. \n",
    "\n",
    "4. Import a module you created, and run a function that exists in that module. \n",
    "\n",
    "5. Import a function from a module, with and without an alias, and run that function. \n",
    "\n",
    "________________________\n",
    "\n",
    "## Agenda\n",
    "\n",
    "1. Understanding the terminology: Modules, Libraries & Packages\n",
    "\n",
    "2. Installing packages\n",
    "\n",
    "3. Importing \n",
    "\n",
    "4. Exercises\n",
    "\n",
    "_______________________\n",
    "\n",
    "\n",
    "## Terminology\n",
    "\n",
    "Before going into imports, let's discuss some terminology: Modules, Libraries & Packages\n",
    "\n",
    "A **Module** is a Python file that contains collections of functions and global variables. It is an executable file with a .py extension. A module can exist in: \n",
    "\n",
    "- Base python (https://docs.python.org/3/library/). \n",
    "\n",
    "- Community developed packages (https://pypi.org/), \n",
    "\n",
    "- Your working directory as a file that you have created. For example, Darden student Bethany Thompson has a repository named 'Predicting-Diabetes-Onset' (https://github.com/ThompsonBethany01/Predicting-Diabetes-Onset). It contains a file named Prepare.py, which is a module she created that she imports in her 'Data_Analysis.ipynb' Notebook. \n",
    "\n",
    "A **Library** is \"a collection of related functionality of codes that allows you to perform many tasks without writing your code. It is a reusable chunk of code that we can use by importing it in our program.\" [source](https://www.geeksforgeeks.org/what-is-the-difference-between-pythons-module-package-and-library/) Next week, we will introduce you to the most awesome library ever ;)...Pandas. In fact, Pandas is a module, a library AND a package. https://pandas.pydata.org/. \n",
    "\n",
    "\n",
    "A **Package** is a directory having collections of modules. It can also consist of other packages, or 'sub-packages'. It is a way to distribute one or more modules. We *install* packages in order to be able to *import* modules or libraries for use. \n",
    "\n",
    "- Python Package Index (PyPI, https://pypi.org/) is a repository of community developed Python packages. \n",
    "\n",
    "- Anaconda's **Conda** product is a package manager. It helps you find and install packages (that originate in PyPI). \n",
    "\n",
    "\n",
    "______________________\n",
    "\n",
    "\n",
    "## Installing Packages\n",
    "\n",
    "\n",
    "- We can only **import** the **libraries and modules** of **packages** that have already been **installed**! In other words, in order to import a library or a module we have to install a package that contains it. \n",
    "\n",
    "There are 3 main sources from imports:\n",
    "\n",
    "1. The [Python standard library](https://docs.python.org/3/library/). This comes with the Python language, and no special installation is needed in order to use it. \n",
    "\n",
    "2. 3rd party packages. These require installation either through `conda` or `pip`. You can use `pip install` (*Package in Python*) to install packages directly from [PyPI](https://pypi.org/). You can use `conda install` to install packages through Anaconda's Conda package manager. \n",
    "    \n",
    "3. Our own code. We can break our code into separate files and use imports to use code from one file in another. This would be stored in the same directory as the files that would import them. *These do not require installation.*"
   ]
  },
  {
   "cell_type": "markdown",
   "metadata": {},
   "source": [
    "!!!note \"About Anaconda\"   About Anaconda: Base installation of Anaconda includes a set of packages containing additional libraries and modules (beyond the base Python). The list of all available and installed packages through can be found @ [docs.anaconda.com](https://docs.anaconda.com/anaconda/packages/py3.7_osx-64/). "
   ]
  },
  {
   "cell_type": "markdown",
   "metadata": {},
   "source": [
    "!!!tip \"Why use Conda?\" There are many reasons, but one of which involves versions and ensuring they all work together. The other, is for security reasons. Anaconda vets the packages available for safety and reliability. On the other hand, PyPI is commumity developed, so it is very easy for malicious code to be contributed and exist for a bit before it is caught and pulled down. Because of that, it is important to pay close attention to what you are installing. Check the followers, supports, downloads of a package before you install it. You don't want to install a package that is new or not well known, unless you have fully vetted the code and know what it is doing. To see the code, you can visit the github repo for each package."
   ]
  },
  {
   "cell_type": "markdown",
   "metadata": {},
   "source": [
    "!!!tip \"Conda vs PiP Commands\" - To compare conda and pip commands, check out [this table](https://conda.io/projects/conda/en/latest/commands.html#conda-vs-pip-vs-virtualenv-commands)"
   ]
  },
  {
   "cell_type": "markdown",
   "metadata": {},
   "source": [
    "You will want to **install** packages from your terminal, *outside of a python session*, using `pip install` or `conda install`. You can also run updates here. Often the install comman will ask if you want to run the update if it is already installed.  \n",
    "You will see in the next section, that the **import** happens *within our python session.*"
   ]
  },
  {
   "cell_type": "markdown",
   "metadata": {},
   "source": [
    "!!!tip \"Try it out\" \n",
    "    1. Install the bokeh package using `conda install bokeh`. \n",
    "    2. Install Zach's Python Utilities package using `pip install zgulde` https://pypi.org/project/zgulde/\n",
    "    3. Install pydataset. Try using `conda install pydataset`. What happens? So, how can you install it? Go for it. "
   ]
  },
  {
   "cell_type": "markdown",
   "metadata": {},
   "source": [
    "## Importing\n",
    "\n",
    "We may import an entire module (or library) or just pieces of it, such as a function or variable containted within it. \n",
    "When importing your own code, simple reference the name of the file without the `.py` extension. "
   ]
  },
  {
   "cell_type": "markdown",
   "metadata": {},
   "source": [
    "!!!warning \"Naming Conventions\" In order to import from another file, that file's name (i.e. everything before the `.py` extension) must be a valid python identifier, that is, you could use it as a variable name."
   ]
  },
  {
   "cell_type": "markdown",
   "metadata": {},
   "source": [
    "To import the entire module: \n",
    "\n",
    "- **import** module_name\n",
    "- **import** module_name **AS** alias\n",
    "\n",
    "To import parts of it: \n",
    "\n",
    "- **from** module_name **import** function_name\n",
    "- **from** module_name **import** function_name **as** alias\n",
    "- **from** module_name **import** function1, function2"
   ]
  },
  {
   "cell_type": "markdown",
   "metadata": {},
   "source": [
    "**Example 1: A Base Python Module**\n",
    "\n",
    "I want to use the sqrt function that exists in the Math module (in Base Python). https://docs.python.org/3/library/math.html. `math.sqrt(x)`: Return the square root of x. \n",
    "\n",
    "When I import the module, I need to precede any function I call from that module with the module name and a `.`. "
   ]
  },
  {
   "cell_type": "code",
   "execution_count": 1,
   "metadata": {},
   "outputs": [
    {
     "data": {
      "text/plain": [
       "2.0"
      ]
     },
     "execution_count": 1,
     "metadata": {},
     "output_type": "execute_result"
    }
   ],
   "source": [
    "import math\n",
    "\n",
    "x = 4\n",
    "math.sqrt(x)"
   ]
  },
  {
   "cell_type": "markdown",
   "metadata": {},
   "source": [
    "When I import the module with an alias, I precede any function I call from that module with the alias and a `.`. "
   ]
  },
  {
   "cell_type": "code",
   "execution_count": 2,
   "metadata": {},
   "outputs": [
    {
     "data": {
      "text/plain": [
       "4.0"
      ]
     },
     "execution_count": 2,
     "metadata": {},
     "output_type": "execute_result"
    }
   ],
   "source": [
    "import math as m\n",
    "\n",
    "x = 16\n",
    "m.sqrt(x)"
   ]
  },
  {
   "cell_type": "markdown",
   "metadata": {},
   "source": [
    "When I import the entire module I have access to all the functions within that module, such as `ceil(x)`, which returns the ceiling of x. That is, it rounds x UP. "
   ]
  },
  {
   "cell_type": "code",
   "execution_count": 3,
   "metadata": {},
   "outputs": [
    {
     "data": {
      "text/plain": [
       "5"
      ]
     },
     "execution_count": 3,
     "metadata": {},
     "output_type": "execute_result"
    }
   ],
   "source": [
    "# return the ceiling of x, i.e. round UP!\n",
    "\n",
    "x = 4.3\n",
    "\n",
    "m.ceil(4.3)"
   ]
  },
  {
   "cell_type": "markdown",
   "metadata": {},
   "source": [
    "When I import the function directly, I don't need to precede the function with the module name; however, I also, don't have access to the other functions within that module. "
   ]
  },
  {
   "cell_type": "code",
   "execution_count": 4,
   "metadata": {},
   "outputs": [
    {
     "data": {
      "text/plain": [
       "2.0"
      ]
     },
     "execution_count": 4,
     "metadata": {},
     "output_type": "execute_result"
    }
   ],
   "source": [
    "from math import sqrt\n",
    "\n",
    "sqrt(4)"
   ]
  },
  {
   "cell_type": "markdown",
   "metadata": {},
   "source": [
    "I can also import multiple functions from the same module. "
   ]
  },
  {
   "cell_type": "code",
   "execution_count": 5,
   "metadata": {},
   "outputs": [
    {
     "name": "stdout",
     "output_type": "stream",
     "text": [
      "1.4142135623730951\n",
      "9.8596\n"
     ]
    }
   ],
   "source": [
    "from math import sqrt, pow\n",
    "\n",
    "print(sqrt(2))\n",
    "\n",
    "print(pow(3.14, 2))"
   ]
  },
  {
   "cell_type": "markdown",
   "metadata": {},
   "source": [
    "**Example 2: A Third Party Library**\n",
    "\n",
    "For this example, we will use Pandas, a third party library that was included in our installation of Anaconda. \n",
    "\n",
    "`pd` is the well-accepted alias for Pandas. I recommend keeping to those conventions when they exist. You will discover others as we move into the lessons covering the data science libraries. \n",
    "\n",
    "First, we will import all of pandas. We will use the Series method to create a pandas series. A series is a one-dimensional array with axis (row) labels."
   ]
  },
  {
   "cell_type": "code",
   "execution_count": 6,
   "metadata": {},
   "outputs": [
    {
     "data": {
      "text/plain": [
       "0       a\n",
       "1       1\n",
       "2    True\n",
       "dtype: object"
      ]
     },
     "execution_count": 6,
     "metadata": {},
     "output_type": "execute_result"
    }
   ],
   "source": [
    "import pandas as pd\n",
    "\n",
    "pd.Series([\"a\", 1, True])"
   ]
  },
  {
   "cell_type": "markdown",
   "metadata": {},
   "source": [
    "!!!tip \"Try it out\" Go to [data.world](https://data.world/datagov-uk/5cda2945-bec9-4f4d-a1dc-dfaf7ecc8105/workspace/file?filename=primary-academy-pupils-eligible-for-free-school-meals-fsm-january-2016-15.csv), select the table, and copy the contents to your clipboard. From Pandas, import the function, read_clipboard, and run the function to read the data from your clipboard.. "
   ]
  },
  {
   "cell_type": "markdown",
   "metadata": {},
   "source": [
    "**Example 3: A Local File**\n",
    "\n",
    "Let's say we have a file, `util.py`, in the same directory as the script we are running. \n",
    "`util.py` has the following contents:\n",
    "\n",
    "```python\n",
    "def sayhello():\n",
    "    print(\"Hello, World!\")\n",
    "```\n",
    "\n",
    "We can import our file like this:\n",
    "\n",
    "```python\n",
    "import util\n",
    "```\n",
    "\n",
    "And when we run the function like this:\n",
    "\n",
    "```python\n",
    "util.sayhello()\n",
    "```\n",
    "\n",
    "We get the following: \n",
    "\n",
    "    Hello, World!\n",
    "\n"
   ]
  },
  {
   "cell_type": "markdown",
   "metadata": {},
   "source": [
    "**Example 4: A local file that contains imports**\n",
    "\n",
    "For exmaple 4, we will import a local module that contains code that will read in a dataset that is stored in a python module, known as [`pydataset`](https://pypi.org/project/pydataset/). When we import this file, we are also importing the modules that are imported within the file. \n",
    "\n",
    "My file name is imports_example_file.py. \n",
    "\n",
    "The code it contains is: \n",
    "\n",
    "```python\n",
    "from pydataset import data\n",
    "import pandas as pd\n",
    "\n",
    "def get_data(dataset):\n",
    "    '''\n",
    "    this function reads the first 5 rows of a dataset into a dataframe\n",
    "    '''\n",
    "    df = data(dataset).head()\n",
    "    return df\n",
    "```\n"
   ]
  },
  {
   "cell_type": "code",
   "execution_count": 7,
   "metadata": {},
   "outputs": [
    {
     "data": {
      "text/html": [
       "<div>\n",
       "<style scoped>\n",
       "    .dataframe tbody tr th:only-of-type {\n",
       "        vertical-align: middle;\n",
       "    }\n",
       "\n",
       "    .dataframe tbody tr th {\n",
       "        vertical-align: top;\n",
       "    }\n",
       "\n",
       "    .dataframe thead th {\n",
       "        text-align: right;\n",
       "    }\n",
       "</style>\n",
       "<table border=\"1\" class=\"dataframe\">\n",
       "  <thead>\n",
       "    <tr style=\"text-align: right;\">\n",
       "      <th></th>\n",
       "      <th>Sepal.Length</th>\n",
       "      <th>Sepal.Width</th>\n",
       "      <th>Petal.Length</th>\n",
       "      <th>Petal.Width</th>\n",
       "      <th>Species</th>\n",
       "    </tr>\n",
       "  </thead>\n",
       "  <tbody>\n",
       "    <tr>\n",
       "      <th>1</th>\n",
       "      <td>5.1</td>\n",
       "      <td>3.5</td>\n",
       "      <td>1.4</td>\n",
       "      <td>0.2</td>\n",
       "      <td>setosa</td>\n",
       "    </tr>\n",
       "    <tr>\n",
       "      <th>2</th>\n",
       "      <td>4.9</td>\n",
       "      <td>3.0</td>\n",
       "      <td>1.4</td>\n",
       "      <td>0.2</td>\n",
       "      <td>setosa</td>\n",
       "    </tr>\n",
       "    <tr>\n",
       "      <th>3</th>\n",
       "      <td>4.7</td>\n",
       "      <td>3.2</td>\n",
       "      <td>1.3</td>\n",
       "      <td>0.2</td>\n",
       "      <td>setosa</td>\n",
       "    </tr>\n",
       "    <tr>\n",
       "      <th>4</th>\n",
       "      <td>4.6</td>\n",
       "      <td>3.1</td>\n",
       "      <td>1.5</td>\n",
       "      <td>0.2</td>\n",
       "      <td>setosa</td>\n",
       "    </tr>\n",
       "    <tr>\n",
       "      <th>5</th>\n",
       "      <td>5.0</td>\n",
       "      <td>3.6</td>\n",
       "      <td>1.4</td>\n",
       "      <td>0.2</td>\n",
       "      <td>setosa</td>\n",
       "    </tr>\n",
       "  </tbody>\n",
       "</table>\n",
       "</div>"
      ],
      "text/plain": [
       "   Sepal.Length  Sepal.Width  Petal.Length  Petal.Width Species\n",
       "1           5.1          3.5           1.4          0.2  setosa\n",
       "2           4.9          3.0           1.4          0.2  setosa\n",
       "3           4.7          3.2           1.3          0.2  setosa\n",
       "4           4.6          3.1           1.5          0.2  setosa\n",
       "5           5.0          3.6           1.4          0.2  setosa"
      ]
     },
     "execution_count": 7,
     "metadata": {},
     "output_type": "execute_result"
    }
   ],
   "source": [
    "import imports_example_file as i\n",
    "\n",
    "# read the iris dataset, which contains information about different iris species. \n",
    "dataset='iris'\n",
    "i.get_data(dataset)"
   ]
  },
  {
   "cell_type": "markdown",
   "metadata": {},
   "source": [
    "_______________________\n",
    "\n",
    "\n",
    "When a module is imported, all the code in that file is executed. Sometimes this\n",
    "can produce some undesired side effects, so a best practice is to only have\n",
    "*definitions* inside of a module. If the module contains *procedural code*, that\n",
    "is, code that does something, we can place it inside of an `if` statement like\n",
    "this:\n",
    "\n",
    "```python\n",
    "if __name__ == '__main__':\n",
    "    print('Hello, World!')\n",
    "```\n",
    "\n",
    "    Hello, World!\n",
    "\n",
    "\n",
    "The `__name__` variable is a special variable that is set by python. It's value\n",
    "will be `__main__` when the module is being run directly, but *not* when the\n",
    "module is being imported. This way you can write files that do something when\n",
    "you run them directly, but can also be imported from without producing side\n",
    "effects.\n"
   ]
  },
  {
   "cell_type": "markdown",
   "metadata": {},
   "source": [
    "## Exercises\n",
    "\n",
    "Create a file named `import_exercises.py` or a notebook named `import_exercises.ipynb` to do your work in.\n",
    "\n",
    "1. Import and test 3 of the functions from your functions exercise file. Import each function in a different way:\n",
    "\n",
    "    - import the module and refer to the function with the `.` syntax\n",
    "    \n",
    "    - use `from` to import the function directly\n",
    "    \n",
    "    - use `from` and give the function a different name\n",
    "\n",
    "\n",
    "2. For this exercise, read about and use the [`itertools` module](https://docs.python.org/3/library/itertools.html) from the standard library to help you solve the problem.\n",
    "\n",
    "    - How many different ways can you combine the letters from \"abc\" with the numbers 1, 2, and 3?\n",
    "\n",
    "    - How many different ways can you combine two of the letters from \"abcd\"?\n",
    "\n",
    "\n",
    "3. Save [this file](https://gist.githubusercontent.com/ryanorsinger/f77e5ec94dbe14e21771/raw/d4a1f916723ca69ac99fdcab48746c6682bf4530/profiles.json) as `profiles.json` inside of your exercises directory. Use the `load` function from the `json` module to open this file, it will produce a list of dictionaries. Using this data, write some code that calculates and outputs the following information:\n",
    "\n",
    "    - Total number of users\n",
    "\n",
    "    - Number of active users\n",
    "    \n",
    "    - Number of inactive users\n",
    "    \n",
    "    - Grand total of balances for all users\n",
    "    \n",
    "    - Average balance per user\n",
    "    \n",
    "    - User with the lowest balance\n",
    "    \n",
    "    - User with the highest balance\n",
    "    \n",
    "    - Most common favorite fruit\n",
    "    \n",
    "    - Least most common favorite fruit\n",
    "    \n",
    "    - Total number of unread messages for all users"
   ]
  }
 ],
 "metadata": {
  "kernelspec": {
   "display_name": "Python 3",
   "language": "python",
   "name": "python3"
  },
  "language_info": {
   "codemirror_mode": {
    "name": "ipython",
    "version": 3
   },
   "file_extension": ".py",
   "mimetype": "text/x-python",
   "name": "python",
   "nbconvert_exporter": "python",
   "pygments_lexer": "ipython3",
   "version": "3.6.8"
  }
 },
 "nbformat": 4,
 "nbformat_minor": 2
}
