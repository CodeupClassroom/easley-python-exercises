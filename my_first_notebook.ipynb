{
 "cells": [
  {
   "cell_type": "markdown",
   "metadata": {},
   "source": [
    "# Welcome to An Example Jupyter Notebook\n",
    "\n",
    "## Now We Know\n",
    "- To run the jupyter notebook server in a folder, run `jupyter notebook`\n",
    "- Backtick around code `like this` is the markdown way of saying \"this piece is code\"\n",
    "- Triple backticks make a code block in markdown\n",
    "\n",
    "```\n",
    "message = \"Howdy\"\n",
    "print(message)\n",
    "```\n",
    "- From \"command mode\" where we hit ESC key, we can delete a highlighted cell with \"dd\" on the keyboard"
   ]
  },
  {
   "cell_type": "code",
   "execution_count": null,
   "metadata": {},
   "outputs": [],
   "source": []
  }
 ],
 "metadata": {
  "kernelspec": {
   "display_name": "Python 3",
   "language": "python",
   "name": "python3"
  },
  "language_info": {
   "codemirror_mode": {
    "name": "ipython",
    "version": 3
   },
   "file_extension": ".py",
   "mimetype": "text/x-python",
   "name": "python",
   "nbconvert_exporter": "python",
   "pygments_lexer": "ipython3",
   "version": "3.7.3"
  }
 },
 "nbformat": 4,
 "nbformat_minor": 4
}
